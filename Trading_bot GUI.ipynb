{
  "cells": [
    {
      "cell_type": "code",
      "execution_count": 2,
      "metadata": {
        "id": "KcaYedSU8eOq",
        "colab": {
          "base_uri": "https://localhost:8080/"
        },
        "outputId": "b846c489-7f46-4b76-9577-a1a5fcb39cb0"
      },
      "outputs": [
        {
          "output_type": "stream",
          "name": "stdout",
          "text": [
            "Collecting websocket_client\n",
            "  Downloading websocket_client-1.2.3-py3-none-any.whl (53 kB)\n",
            "\u001b[?25l\r\u001b[K     |██████▏                         | 10 kB 20.6 MB/s eta 0:00:01\r\u001b[K     |████████████▎                   | 20 kB 10.9 MB/s eta 0:00:01\r\u001b[K     |██████████████████▍             | 30 kB 9.2 MB/s eta 0:00:01\r\u001b[K     |████████████████████████▌       | 40 kB 8.3 MB/s eta 0:00:01\r\u001b[K     |██████████████████████████████▋ | 51 kB 5.1 MB/s eta 0:00:01\r\u001b[K     |████████████████████████████████| 53 kB 1.3 MB/s \n",
            "\u001b[?25hInstalling collected packages: websocket-client\n",
            "Successfully installed websocket-client-1.2.3\n",
            "Collecting python-binance\n",
            "  Downloading python_binance-1.0.15-py2.py3-none-any.whl (63 kB)\n",
            "\u001b[K     |████████████████████████████████| 63 kB 1.8 MB/s \n",
            "\u001b[?25hCollecting websockets==9.1\n",
            "  Downloading websockets-9.1-cp37-cp37m-manylinux2010_x86_64.whl (103 kB)\n",
            "\u001b[K     |████████████████████████████████| 103 kB 11.7 MB/s \n",
            "\u001b[?25hCollecting ujson\n",
            "  Downloading ujson-5.1.0-cp37-cp37m-manylinux_2_17_x86_64.manylinux2014_x86_64.whl (43 kB)\n",
            "\u001b[K     |████████████████████████████████| 43 kB 1.9 MB/s \n",
            "\u001b[?25hRequirement already satisfied: requests in /usr/local/lib/python3.7/dist-packages (from python-binance) (2.23.0)\n",
            "Collecting dateparser\n",
            "  Downloading dateparser-1.1.0-py2.py3-none-any.whl (288 kB)\n",
            "\u001b[K     |████████████████████████████████| 288 kB 58.3 MB/s \n",
            "\u001b[?25hCollecting aiohttp\n",
            "  Downloading aiohttp-3.8.1-cp37-cp37m-manylinux_2_5_x86_64.manylinux1_x86_64.manylinux_2_12_x86_64.manylinux2010_x86_64.whl (1.1 MB)\n",
            "\u001b[K     |████████████████████████████████| 1.1 MB 50.2 MB/s \n",
            "\u001b[?25hRequirement already satisfied: six in /usr/local/lib/python3.7/dist-packages (from python-binance) (1.15.0)\n",
            "Collecting frozenlist>=1.1.1\n",
            "  Downloading frozenlist-1.3.0-cp37-cp37m-manylinux_2_5_x86_64.manylinux1_x86_64.manylinux_2_17_x86_64.manylinux2014_x86_64.whl (144 kB)\n",
            "\u001b[K     |████████████████████████████████| 144 kB 53.3 MB/s \n",
            "\u001b[?25hCollecting yarl<2.0,>=1.0\n",
            "  Downloading yarl-1.7.2-cp37-cp37m-manylinux_2_5_x86_64.manylinux1_x86_64.manylinux_2_12_x86_64.manylinux2010_x86_64.whl (271 kB)\n",
            "\u001b[K     |████████████████████████████████| 271 kB 43.8 MB/s \n",
            "\u001b[?25hCollecting asynctest==0.13.0\n",
            "  Downloading asynctest-0.13.0-py3-none-any.whl (26 kB)\n",
            "Requirement already satisfied: typing-extensions>=3.7.4 in /usr/local/lib/python3.7/dist-packages (from aiohttp->python-binance) (3.10.0.2)\n",
            "Collecting async-timeout<5.0,>=4.0.0a3\n",
            "  Downloading async_timeout-4.0.2-py3-none-any.whl (5.8 kB)\n",
            "Collecting aiosignal>=1.1.2\n",
            "  Downloading aiosignal-1.2.0-py3-none-any.whl (8.2 kB)\n",
            "Requirement already satisfied: attrs>=17.3.0 in /usr/local/lib/python3.7/dist-packages (from aiohttp->python-binance) (21.4.0)\n",
            "Requirement already satisfied: charset-normalizer<3.0,>=2.0 in /usr/local/lib/python3.7/dist-packages (from aiohttp->python-binance) (2.0.10)\n",
            "Collecting multidict<7.0,>=4.5\n",
            "  Downloading multidict-6.0.2-cp37-cp37m-manylinux_2_17_x86_64.manylinux2014_x86_64.whl (94 kB)\n",
            "\u001b[K     |████████████████████████████████| 94 kB 3.3 MB/s \n",
            "\u001b[?25hRequirement already satisfied: idna>=2.0 in /usr/local/lib/python3.7/dist-packages (from yarl<2.0,>=1.0->aiohttp->python-binance) (2.10)\n",
            "Requirement already satisfied: pytz in /usr/local/lib/python3.7/dist-packages (from dateparser->python-binance) (2018.9)\n",
            "Requirement already satisfied: tzlocal in /usr/local/lib/python3.7/dist-packages (from dateparser->python-binance) (1.5.1)\n",
            "Requirement already satisfied: regex!=2019.02.19,!=2021.8.27 in /usr/local/lib/python3.7/dist-packages (from dateparser->python-binance) (2019.12.20)\n",
            "Requirement already satisfied: python-dateutil in /usr/local/lib/python3.7/dist-packages (from dateparser->python-binance) (2.8.2)\n",
            "Requirement already satisfied: urllib3!=1.25.0,!=1.25.1,<1.26,>=1.21.1 in /usr/local/lib/python3.7/dist-packages (from requests->python-binance) (1.24.3)\n",
            "Requirement already satisfied: certifi>=2017.4.17 in /usr/local/lib/python3.7/dist-packages (from requests->python-binance) (2021.10.8)\n",
            "Requirement already satisfied: chardet<4,>=3.0.2 in /usr/local/lib/python3.7/dist-packages (from requests->python-binance) (3.0.4)\n",
            "Installing collected packages: multidict, frozenlist, yarl, asynctest, async-timeout, aiosignal, websockets, ujson, dateparser, aiohttp, python-binance\n",
            "Successfully installed aiohttp-3.8.1 aiosignal-1.2.0 async-timeout-4.0.2 asynctest-0.13.0 dateparser-1.1.0 frozenlist-1.3.0 multidict-6.0.2 python-binance-1.0.15 ujson-5.1.0 websockets-9.1 yarl-1.7.2\n"
          ]
        }
      ],
      "source": [
        "!pip install websocket_client\n",
        "!pip install python-binance"
      ]
    },
    {
      "cell_type": "code",
      "execution_count": 19,
      "metadata": {
        "id": "C2X_cbtd7rU0"
      },
      "outputs": [],
      "source": [
        "import websocket, json\n",
        "from binance.exceptions import BinanceAPIException\n",
        "from binance.client import Client\n",
        "from binance.enums import *\n",
        "\n",
        "SYMBOL = \"busdusdt\"\n",
        "SOCKET = \"wss://stream.binance.com:9443/ws/\"+SYMBOL+\"@kline_1m\"\n",
        "\n"
      ]
    },
    {
      "cell_type": "code",
      "source": [
        "client = Client(API_KEY, SECRET_KEY)"
      ],
      "metadata": {
        "id": "fHhVcw6oa0b-"
      },
      "execution_count": null,
      "outputs": []
    },
    {
      "cell_type": "code",
      "source": [
        "balances = client.get_account()['balances']\n",
        "\n",
        "for b in balances[0:200]:\n",
        "  if b['asset'] in ['BUSD', 'USDT']:\n",
        "    print(b)"
      ],
      "metadata": {
        "colab": {
          "base_uri": "https://localhost:8080/"
        },
        "id": "1qkhvpUcciAm",
        "outputId": "b68dfde6-07de-4406-fe5d-29ebbb653542"
      },
      "execution_count": 24,
      "outputs": [
        {
          "output_type": "stream",
          "name": "stdout",
          "text": [
            "{'asset': 'USDT', 'free': '6.36005384', 'locked': '0.00000000'}\n",
            "{'asset': 'BUSD', 'free': '20.00000000', 'locked': '0.00000000'}\n"
          ]
        }
      ]
    },
    {
      "cell_type": "code",
      "source": [
        "balances = client.get_account()['balances']\n",
        "print('After Trade')\n",
        "for b in balances[0:200]:\n",
        "  if b['asset'] in ['BUSD', 'USDT']:\n",
        "    print(b)"
      ],
      "metadata": {
        "colab": {
          "base_uri": "https://localhost:8080/"
        },
        "id": "wZz08eTSdxUz",
        "outputId": "0406cb01-e860-41fd-e05d-87a3fecc382f"
      },
      "execution_count": 31,
      "outputs": [
        {
          "output_type": "stream",
          "name": "stdout",
          "text": [
            "After Trade\n",
            "{'asset': 'USDT', 'free': '26.35005384', 'locked': '0.00000000'}\n",
            "{'asset': 'BUSD', 'free': '0.00000000', 'locked': '0.00000000'}\n"
          ]
        }
      ]
    },
    {
      "cell_type": "code",
      "execution_count": 26,
      "metadata": {
        "id": "ed3sneLXE674"
      },
      "outputs": [],
      "source": [
        "def on_open(ws):\n",
        "  print(\"Connction Opened\")\n",
        "\n",
        "def on_close(ws):\n",
        "  print(\"Connction close\")\n",
        "\n",
        "def on_error(ws, error):\n",
        "  print(\"Here is an error:\", error)\n",
        "\n",
        "def order(side, quantity, symbol=\"BUSDUSDT\"):\n",
        "  try:\n",
        "    my_order = client.create_order(symbol= symbol, side = side, type= client.ORDER_TYPE_MARKET, quantity = quantity)\n",
        "    print(my_order)\n",
        "  except BinanceAPIException as e:\n",
        "    print(e)\n",
        "\n",
        "\n",
        "def on_message(ws, message):\n",
        "  print(\"Message Recieved\")\n",
        "  candle_data = json.loads(message)\n",
        "  closing_rate = float(candle_data['k']['c'])\n",
        "\n",
        "  print(\"Closing:\", closing_rate)\n",
        "\n",
        "  if mode == \"SELL\" and closing_rate >= sell_limit:\n",
        "    #sell the coins\n",
        "    print(\"SELLLL ORDER\")\n",
        "    order(mode, amount)\n",
        "    if repeat == 'Once':\n",
        "      ws.close()\n",
        "  elif mode == \"BUY\" and closing_rate <= buy_limit:\n",
        "    print(\"BUYYYYYYYYYYY ORDER\")\n",
        "    order(mode, amount)\n",
        "    if repeat == 'Once':\n",
        "      ws.close()\n",
        "    #buy coins\n",
        "\n",
        "  print(\"Closing:\", closing_rate)"
      ]
    },
    {
      "cell_type": "code",
      "source": [
        "repeat = 'Once' #@param ['Once', 'Keep Repeating']\n",
        "mode = 'BUY' #@param ['BUY', 'SELL']\n",
        "amount =  20#@param {type:\"number\"}\n",
        "sell_limit =  0.9996#@param {type:\"number\"}\n",
        "buy_limit =  0.9995#@param {type:\"number\"}\n"
      ],
      "metadata": {
        "id": "dpDnvTJca-4L"
      },
      "execution_count": 29,
      "outputs": []
    },
    {
      "cell_type": "code",
      "execution_count": 30,
      "metadata": {
        "colab": {
          "base_uri": "https://localhost:8080/"
        },
        "id": "uzxjVhQ39NL0",
        "outputId": "61bbbfbf-7d33-4566-d188-1f24ec6fdf4b"
      },
      "outputs": [
        {
          "output_type": "stream",
          "name": "stdout",
          "text": [
            "Connction Opened\n",
            "Message Recieved\n",
            "Closing: 0.9995\n",
            "Closing: 0.9995\n",
            "Message Recieved\n",
            "Closing: 0.9995\n",
            "Closing: 0.9995\n",
            "Message Recieved\n",
            "Closing: 0.9996\n",
            "SELLLL ORDER\n",
            "{'symbol': 'BUSDUSDT', 'orderId': 401484506, 'orderListId': -1, 'clientOrderId': 'P25O8AZvxadO0m9DA614PV', 'transactTime': 1643721955387, 'price': '0.00000000', 'origQty': '20.00000000', 'executedQty': '20.00000000', 'cummulativeQuoteQty': '19.99000000', 'status': 'FILLED', 'timeInForce': 'GTC', 'type': 'MARKET', 'side': 'SELL', 'fills': [{'price': '0.99950000', 'qty': '20.00000000', 'commission': '0.00000000', 'commissionAsset': 'USDT', 'tradeId': 248858427}]}\n",
            "Closing: 0.9996\n"
          ]
        }
      ],
      "source": [
        "ws = websocket.WebSocketApp(SOCKET, on_open=on_open, on_close=on_close, on_error=on_error, on_message=on_message)\n",
        "ws.run_forever()"
      ]
    },
    {
      "cell_type": "code",
      "execution_count": null,
      "metadata": {
        "id": "GBaurbFh9NR1"
      },
      "outputs": [],
      "source": [
        ""
      ]
    },
    {
      "cell_type": "code",
      "execution_count": null,
      "metadata": {
        "id": "qn3gsRhO9NTS"
      },
      "outputs": [],
      "source": [
        ""
      ]
    },
    {
      "cell_type": "code",
      "execution_count": null,
      "metadata": {
        "id": "jR8fgDsH9NX_"
      },
      "outputs": [],
      "source": [
        ""
      ]
    }
  ],
  "metadata": {
    "colab": {
      "name": "Trading bot.ipynb",
      "provenance": []
    },
    "kernelspec": {
      "display_name": "Python 3",
      "name": "python3"
    },
    "language_info": {
      "name": "python"
    }
  },
  "nbformat": 4,
  "nbformat_minor": 0
}